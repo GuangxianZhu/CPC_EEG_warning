{
 "cells": [
  {
   "cell_type": "code",
   "execution_count": 1,
   "metadata": {},
   "outputs": [
    {
     "name": "stdout",
     "output_type": "stream",
     "text": [
      "True\n",
      "0\n"
     ]
    }
   ],
   "source": [
    "import tqdm\n",
    "import torch\n",
    "import numpy as np\n",
    "import pandas as pd\n",
    "from torch import nn, einsum\n",
    "import seaborn as sns\n",
    "import scipy.io as sio\n",
    "import torch.optim as optim\n",
    "import torch.nn.functional as F\n",
    "import matplotlib.pyplot as plt\n",
    "from scipy.signal import find_peaks\n",
    "from einops import rearrange, repeat\n",
    "from sklearn.metrics import classification_report\n",
    "from sklearn.model_selection import train_test_split\n",
    "# !nvidia-smi\n",
    "print(torch.cuda.is_available())\n",
    "print(torch.cuda.current_device())"
   ]
  },
  {
   "attachments": {},
   "cell_type": "markdown",
   "metadata": {},
   "source": [
    "# Big Data"
   ]
  },
  {
   "cell_type": "code",
   "execution_count": 2,
   "metadata": {},
   "outputs": [
    {
     "name": "stdout",
     "output_type": "stream",
     "text": [
      "(22, 2217984) (22, 9753600) (22, 921600)\n"
     ]
    }
   ],
   "source": [
    "sz_data = np.load(\"sz_big.npy\")\n",
    "pre_data = np.load(\"omen_big_30.npy\")\n",
    "nm_data = np.load(\"norm_big.npy\")\n",
    "print(sz_data.shape, pre_data.shape, nm_data.shape)"
   ]
  },
  {
   "cell_type": "code",
   "execution_count": 3,
   "metadata": {},
   "outputs": [
    {
     "name": "stdout",
     "output_type": "stream",
     "text": [
      "(50364, 256, 22)\n",
      "(50364, 1)\n"
     ]
    }
   ],
   "source": [
    "# data = np.concatenate([sz_data[:, 0:25600], pre_data[:, 0:25600], nm_data[:, 0:25600]], 1) # (22, 40701, 256)\n",
    "data = np.concatenate([sz_data, pre_data, nm_data], 1) # (22, 40701, 256)\n",
    "data = rearrange(data, 'chn (time hz) -> time hz chn', chn=22, hz=256)\n",
    "print(data.shape)\n",
    "\n",
    "lab0 = np.full((8664, 1), 0) # seizure\n",
    "lab1 = np.full((38100, 1), 1) # pre-seizure\n",
    "lab2 = np.full((3600, 1), 2) # normal\n",
    "\n",
    "label = np.concatenate([lab0, lab1, lab2], 0)\n",
    "print(label.shape)"
   ]
  },
  {
   "cell_type": "code",
   "execution_count": 4,
   "metadata": {},
   "outputs": [
    {
     "name": "stdout",
     "output_type": "stream",
     "text": [
      "train data: 45327\n",
      "test data: 5037\n",
      "(50364, 256, 22)\n"
     ]
    }
   ],
   "source": [
    "class Mydatasets(torch.utils.data.Dataset):\n",
    "    def __init__(self, data,label ,transform = None):\n",
    "        self.transform = transform\n",
    "\n",
    "        self.data = data\n",
    "        self.label = label\n",
    "        self.datanum = len(data)\n",
    "\n",
    "    def __len__(self):\n",
    "        return self.datanum\n",
    "\n",
    "    def __getitem__(self, idx):\n",
    "        \n",
    "        out_data = torch.tensor(self.data[idx]).float()\n",
    "        out_label = torch.tensor(self.label[idx])\n",
    "        if self.transform:\n",
    "            out_data = self.transform(out_data)\n",
    "\n",
    "        return out_data, out_label\n",
    "    \n",
    "train, test, train_label, test_label = train_test_split(data, np.array(label),test_size = 0.1,stratify=label, random_state = 6)\n",
    "print('train data:',len(train))\n",
    "print('test data:',len(test))\n",
    "\n",
    "train_data_set = Mydatasets(data=train,label=train_label)\n",
    "test_data_set = Mydatasets(data=test,label=test_label)\n",
    "\n",
    "train_dataloader = torch.utils.data.DataLoader(train_data_set, batch_size = 64, shuffle=True)\n",
    "test_dataloader = torch.utils.data.DataLoader(test_data_set, batch_size = 64, shuffle=True)\n",
    "\n",
    "print(data.shape)"
   ]
  },
  {
   "attachments": {},
   "cell_type": "markdown",
   "metadata": {},
   "source": [
    "# GRU GRU"
   ]
  },
  {
   "cell_type": "code",
   "execution_count": 11,
   "metadata": {},
   "outputs": [],
   "source": [
    "# GRU\n",
    "class CPC(nn.Module):\n",
    "    def __init__ (self, input_layer,hidden_layer, n_layer, num_class, time_step):\n",
    "        super().__init__()\n",
    "        \n",
    "        self.time_step = time_step # k  ___learn___{   len=time_step   }\n",
    "        # input size: (Bch, len, chnl)\n",
    "        # nn.GRU: (in=chnl, out=>chnl2, GRU layers)\n",
    "        self.gru_first = nn.GRU(22, 128, 3, batch_first = True)#(bs, 256, 22) -> (bs, 256, 128)\n",
    "   \n",
    "        self.gru = nn.GRU(input_layer,hidden_layer,n_layer,batch_first = True)\n",
    "        \n",
    "        self.dec = nn.ModuleList([nn.Linear(hidden_layer,128) for i in range(time_step)])# k=T, could!=, \n",
    "        \n",
    "        self.mlp_head = nn.Linear(hidden_layer,num_class)\n",
    "        \n",
    "        self.softmax = nn.Softmax(dim=1)\n",
    "        \n",
    "        self.lsoftmax = nn.LogSoftmax(dim=1) # loss func \n",
    "\n",
    "    def compute_nce_per_class(self, data_loader):\n",
    "        '''CPU mode only'''\n",
    "        classwise_nce = {}\n",
    "        for batch in data_loader:\n",
    "            x, labels = batch\n",
    "            _, nce, _ = self.forward(x)\n",
    "            for label in labels:\n",
    "                if label.item() not in classwise_nce:\n",
    "                    classwise_nce[label.item()] = []\n",
    "                classwise_nce[label.item()].append(nce.item())\n",
    "        for label in classwise_nce:\n",
    "            classwise_nce[label] = np.mean(classwise_nce[label])\n",
    "        return classwise_nce\n",
    "\n",
    "    def forward(self,x):\n",
    "        batch = x.shape[0] \n",
    "                \n",
    "        t_samples = 127 # where to start: ___learn___{ }____pred____\n",
    "\n",
    "        z,__ = self.gru_first(x) # z:(bs, 256, 128)\n",
    "        \n",
    "        nce = 0\n",
    "        \n",
    "        encoder_sample = torch.empty((self.time_step,batch,128)).float() # Z_{t+k}; ()\n",
    "        \n",
    "        for i in np.arange(1,self.time_step+1):\n",
    "            encoder_sample[i-1] = z[:,t_samples+i,:].view(batch,128) #from start to start+k\n",
    "        \n",
    "        forward_seq = z[:,:t_samples+1,:] # Z_{t}, {  forward_seq  }_____pred______\n",
    "        \n",
    "        output,hidden = self.gru(forward_seq) # decrease dim, (bs, 256-128, 128) --> (bs, 256-128, 64)\n",
    "        c_t = output[:,t_samples,:].view(batch,64)# at T time, (bs, 128th, 64) --> (bs, 64)\n",
    "        \n",
    "        pred = torch.empty((self.time_step,batch,128)).float() # W_{k}C_{t}, empty(128, bs, 128)\n",
    "        for i in np.arange(0,self.time_step): # do time_step=128 times linear\n",
    "            linear = self.dec[i]\n",
    "            pred[i] = linear(c_t) # (bs, 64)--> (bs, 128)\n",
    "        for i in np.arange(0,self.time_step):\n",
    "            total = torch.mm(encoder_sample[i], torch.transpose(pred[i],0,1)) # positive samples\n",
    "            correct = torch.sum(torch.eq(torch.argmax(self.softmax(total),dim=0),torch.arange(0,batch))) # pred, label\n",
    "            nce += torch.sum(torch.diag(self.lsoftmax(total)))\n",
    "        nce /= -1.*batch*self.time_step\n",
    "        acc = 1.*correct.item()/batch\n",
    "        \n",
    "        out = self.mlp_head(output[:,-1,:]) #for cls, ct or zt is ok.\n",
    "        return acc,nce,out\n",
    "        "
   ]
  },
  {
   "cell_type": "code",
   "execution_count": 29,
   "metadata": {
    "scrolled": true
   },
   "outputs": [
    {
     "name": "stdout",
     "output_type": "stream",
     "text": [
      "cuda:0\n",
      "CPC(\n",
      "  (gru_first): GRU(22, 128, num_layers=3, batch_first=True)\n",
      "  (gru): GRU(128, 64, num_layers=3, batch_first=True)\n",
      "  (dec): ModuleList(\n",
      "    (0): Linear(in_features=64, out_features=128, bias=True)\n",
      "    (1): Linear(in_features=64, out_features=128, bias=True)\n",
      "    (2): Linear(in_features=64, out_features=128, bias=True)\n",
      "    (3): Linear(in_features=64, out_features=128, bias=True)\n",
      "    (4): Linear(in_features=64, out_features=128, bias=True)\n",
      "    (5): Linear(in_features=64, out_features=128, bias=True)\n",
      "    (6): Linear(in_features=64, out_features=128, bias=True)\n",
      "    (7): Linear(in_features=64, out_features=128, bias=True)\n",
      "    (8): Linear(in_features=64, out_features=128, bias=True)\n",
      "    (9): Linear(in_features=64, out_features=128, bias=True)\n",
      "    (10): Linear(in_features=64, out_features=128, bias=True)\n",
      "    (11): Linear(in_features=64, out_features=128, bias=True)\n",
      "    (12): Linear(in_features=64, out_features=128, bias=True)\n",
      "    (13): Linear(in_features=64, out_features=128, bias=True)\n",
      "    (14): Linear(in_features=64, out_features=128, bias=True)\n",
      "    (15): Linear(in_features=64, out_features=128, bias=True)\n",
      "    (16): Linear(in_features=64, out_features=128, bias=True)\n",
      "    (17): Linear(in_features=64, out_features=128, bias=True)\n",
      "    (18): Linear(in_features=64, out_features=128, bias=True)\n",
      "    (19): Linear(in_features=64, out_features=128, bias=True)\n",
      "    (20): Linear(in_features=64, out_features=128, bias=True)\n",
      "    (21): Linear(in_features=64, out_features=128, bias=True)\n",
      "    (22): Linear(in_features=64, out_features=128, bias=True)\n",
      "    (23): Linear(in_features=64, out_features=128, bias=True)\n",
      "    (24): Linear(in_features=64, out_features=128, bias=True)\n",
      "    (25): Linear(in_features=64, out_features=128, bias=True)\n",
      "    (26): Linear(in_features=64, out_features=128, bias=True)\n",
      "    (27): Linear(in_features=64, out_features=128, bias=True)\n",
      "    (28): Linear(in_features=64, out_features=128, bias=True)\n",
      "    (29): Linear(in_features=64, out_features=128, bias=True)\n",
      "    (30): Linear(in_features=64, out_features=128, bias=True)\n",
      "    (31): Linear(in_features=64, out_features=128, bias=True)\n",
      "    (32): Linear(in_features=64, out_features=128, bias=True)\n",
      "    (33): Linear(in_features=64, out_features=128, bias=True)\n",
      "    (34): Linear(in_features=64, out_features=128, bias=True)\n",
      "    (35): Linear(in_features=64, out_features=128, bias=True)\n",
      "    (36): Linear(in_features=64, out_features=128, bias=True)\n",
      "    (37): Linear(in_features=64, out_features=128, bias=True)\n",
      "    (38): Linear(in_features=64, out_features=128, bias=True)\n",
      "    (39): Linear(in_features=64, out_features=128, bias=True)\n",
      "    (40): Linear(in_features=64, out_features=128, bias=True)\n",
      "    (41): Linear(in_features=64, out_features=128, bias=True)\n",
      "    (42): Linear(in_features=64, out_features=128, bias=True)\n",
      "    (43): Linear(in_features=64, out_features=128, bias=True)\n",
      "    (44): Linear(in_features=64, out_features=128, bias=True)\n",
      "    (45): Linear(in_features=64, out_features=128, bias=True)\n",
      "    (46): Linear(in_features=64, out_features=128, bias=True)\n",
      "    (47): Linear(in_features=64, out_features=128, bias=True)\n",
      "    (48): Linear(in_features=64, out_features=128, bias=True)\n",
      "    (49): Linear(in_features=64, out_features=128, bias=True)\n",
      "    (50): Linear(in_features=64, out_features=128, bias=True)\n",
      "    (51): Linear(in_features=64, out_features=128, bias=True)\n",
      "    (52): Linear(in_features=64, out_features=128, bias=True)\n",
      "    (53): Linear(in_features=64, out_features=128, bias=True)\n",
      "    (54): Linear(in_features=64, out_features=128, bias=True)\n",
      "    (55): Linear(in_features=64, out_features=128, bias=True)\n",
      "    (56): Linear(in_features=64, out_features=128, bias=True)\n",
      "    (57): Linear(in_features=64, out_features=128, bias=True)\n",
      "    (58): Linear(in_features=64, out_features=128, bias=True)\n",
      "    (59): Linear(in_features=64, out_features=128, bias=True)\n",
      "    (60): Linear(in_features=64, out_features=128, bias=True)\n",
      "    (61): Linear(in_features=64, out_features=128, bias=True)\n",
      "    (62): Linear(in_features=64, out_features=128, bias=True)\n",
      "    (63): Linear(in_features=64, out_features=128, bias=True)\n",
      "    (64): Linear(in_features=64, out_features=128, bias=True)\n",
      "    (65): Linear(in_features=64, out_features=128, bias=True)\n",
      "    (66): Linear(in_features=64, out_features=128, bias=True)\n",
      "    (67): Linear(in_features=64, out_features=128, bias=True)\n",
      "    (68): Linear(in_features=64, out_features=128, bias=True)\n",
      "    (69): Linear(in_features=64, out_features=128, bias=True)\n",
      "    (70): Linear(in_features=64, out_features=128, bias=True)\n",
      "    (71): Linear(in_features=64, out_features=128, bias=True)\n",
      "    (72): Linear(in_features=64, out_features=128, bias=True)\n",
      "    (73): Linear(in_features=64, out_features=128, bias=True)\n",
      "    (74): Linear(in_features=64, out_features=128, bias=True)\n",
      "    (75): Linear(in_features=64, out_features=128, bias=True)\n",
      "    (76): Linear(in_features=64, out_features=128, bias=True)\n",
      "    (77): Linear(in_features=64, out_features=128, bias=True)\n",
      "    (78): Linear(in_features=64, out_features=128, bias=True)\n",
      "    (79): Linear(in_features=64, out_features=128, bias=True)\n",
      "    (80): Linear(in_features=64, out_features=128, bias=True)\n",
      "    (81): Linear(in_features=64, out_features=128, bias=True)\n",
      "    (82): Linear(in_features=64, out_features=128, bias=True)\n",
      "    (83): Linear(in_features=64, out_features=128, bias=True)\n",
      "    (84): Linear(in_features=64, out_features=128, bias=True)\n",
      "    (85): Linear(in_features=64, out_features=128, bias=True)\n",
      "    (86): Linear(in_features=64, out_features=128, bias=True)\n",
      "    (87): Linear(in_features=64, out_features=128, bias=True)\n",
      "    (88): Linear(in_features=64, out_features=128, bias=True)\n",
      "    (89): Linear(in_features=64, out_features=128, bias=True)\n",
      "    (90): Linear(in_features=64, out_features=128, bias=True)\n",
      "    (91): Linear(in_features=64, out_features=128, bias=True)\n",
      "    (92): Linear(in_features=64, out_features=128, bias=True)\n",
      "    (93): Linear(in_features=64, out_features=128, bias=True)\n",
      "    (94): Linear(in_features=64, out_features=128, bias=True)\n",
      "    (95): Linear(in_features=64, out_features=128, bias=True)\n",
      "    (96): Linear(in_features=64, out_features=128, bias=True)\n",
      "    (97): Linear(in_features=64, out_features=128, bias=True)\n",
      "    (98): Linear(in_features=64, out_features=128, bias=True)\n",
      "    (99): Linear(in_features=64, out_features=128, bias=True)\n",
      "    (100): Linear(in_features=64, out_features=128, bias=True)\n",
      "    (101): Linear(in_features=64, out_features=128, bias=True)\n",
      "    (102): Linear(in_features=64, out_features=128, bias=True)\n",
      "    (103): Linear(in_features=64, out_features=128, bias=True)\n",
      "    (104): Linear(in_features=64, out_features=128, bias=True)\n",
      "    (105): Linear(in_features=64, out_features=128, bias=True)\n",
      "    (106): Linear(in_features=64, out_features=128, bias=True)\n",
      "    (107): Linear(in_features=64, out_features=128, bias=True)\n",
      "    (108): Linear(in_features=64, out_features=128, bias=True)\n",
      "    (109): Linear(in_features=64, out_features=128, bias=True)\n",
      "    (110): Linear(in_features=64, out_features=128, bias=True)\n",
      "    (111): Linear(in_features=64, out_features=128, bias=True)\n",
      "    (112): Linear(in_features=64, out_features=128, bias=True)\n",
      "    (113): Linear(in_features=64, out_features=128, bias=True)\n",
      "    (114): Linear(in_features=64, out_features=128, bias=True)\n",
      "    (115): Linear(in_features=64, out_features=128, bias=True)\n",
      "    (116): Linear(in_features=64, out_features=128, bias=True)\n",
      "    (117): Linear(in_features=64, out_features=128, bias=True)\n",
      "    (118): Linear(in_features=64, out_features=128, bias=True)\n",
      "    (119): Linear(in_features=64, out_features=128, bias=True)\n",
      "    (120): Linear(in_features=64, out_features=128, bias=True)\n",
      "    (121): Linear(in_features=64, out_features=128, bias=True)\n",
      "    (122): Linear(in_features=64, out_features=128, bias=True)\n",
      "    (123): Linear(in_features=64, out_features=128, bias=True)\n",
      "    (124): Linear(in_features=64, out_features=128, bias=True)\n",
      "    (125): Linear(in_features=64, out_features=128, bias=True)\n",
      "    (126): Linear(in_features=64, out_features=128, bias=True)\n",
      "    (127): Linear(in_features=64, out_features=128, bias=True)\n",
      "  )\n",
      "  (mlp_head): Linear(in_features=64, out_features=3, bias=True)\n",
      "  (softmax): Softmax(dim=1)\n",
      "  (lsoftmax): LogSoftmax(dim=1)\n",
      ")\n",
      "1408835\n"
     ]
    }
   ],
   "source": [
    "DEVICE = torch.device(\"cuda:0\"if torch.cuda.is_available() else \"cpu\")\n",
    "CPC_model = CPC(\n",
    "    input_layer=128, # LSTM input\n",
    "    hidden_layer=64, # LSTM dim\n",
    "    n_layer=3, # LSTM layers\n",
    "    num_class=3,\n",
    "    time_step= 128, # k, how long future you will predict\n",
    ").to(DEVICE)\n",
    "# load model\n",
    "CPC_model.load_state_dict(torch.load('CPC_model.pth'))\n",
    "\n",
    "print(DEVICE)\n",
    "total = sum(p.numel() for p in CPC_model.parameters())\n",
    "print(CPC_model)\n",
    "print(total)\n",
    "\n",
    "optimizer = torch.optim.AdamW(CPC_model.parameters(), lr = 1e-3)"
   ]
  },
  {
   "attachments": {},
   "cell_type": "markdown",
   "metadata": {},
   "source": [
    "# Classification"
   ]
  },
  {
   "cell_type": "code",
   "execution_count": null,
   "metadata": {
    "scrolled": true
   },
   "outputs": [],
   "source": [
    "EPOCH = 30\n",
    "train_times = 0\n",
    "\n",
    "loss_list=[]\n",
    "val_loss_list=[]\n",
    "ac_list=[]\n",
    "\n",
    "acc_max = 0\n",
    "\n",
    "for epoch in tqdm.tqdm(range(EPOCH)):\n",
    "    running_loss = 0.0\n",
    "    count = 0\n",
    "    for  _, (inputs, labels) in enumerate(train_dataloader, 0):\n",
    "        optimizer.zero_grad()\n",
    "        inputs = inputs.to(DEVICE)\n",
    "        labels = labels.type(torch.LongTensor)   # casting to long\n",
    "        labels = labels.to(DEVICE)\n",
    "\n",
    "        acc, nce_loss, outputs = CPC_model(inputs)\n",
    "        loss = F.cross_entropy(outputs, labels.squeeze()) # .squeeze()\n",
    "        loss2 = nce_loss\n",
    "        losses = loss+nce_loss\n",
    "        losses.backward()\n",
    "        optimizer.step() \n",
    "        running_loss += losses.item()\n",
    "        count = count+1\n",
    "    loss_loss = running_loss/count\n",
    "    loss_list.append(loss_loss)\n",
    "    print('epoch',epoch+1,':finished')\n",
    "    print('train_loss:',loss_loss)\n",
    "\n",
    "    with torch.no_grad():\n",
    "        count =0\n",
    "        running_loss=0.0\n",
    "        pre = list()\n",
    "        lab = list()\n",
    "        for  _, (inputs, labels) in enumerate(test_dataloader, 0):\n",
    "            inputs = inputs.to(DEVICE)\n",
    "            labels = labels.type(torch.LongTensor)   # casting to long\n",
    "            labels = labels.to(DEVICE)\n",
    "\n",
    "            _,_,outputs = CPC_model(inputs)\n",
    "\n",
    "            loss = F.cross_entropy(outputs, labels.squeeze()) # .squeeze()\n",
    "            running_loss += loss.item()\n",
    "            _, predicted = torch.max(F.softmax(outputs).data, 1)\n",
    "            groudT = labels.to('cpu')\n",
    "            predicted = predicted.tolist()\n",
    "            groudT = groudT.tolist()\n",
    "            pre.append(predicted)\n",
    "            lab.append(groudT)\n",
    "            count = count+1\n",
    "        loss_loss = running_loss/count\n",
    "        val_loss_list.append(loss_loss)\n",
    "        pre=sum(pre,[])\n",
    "        lab=sum(lab,[])\n",
    "        # print('val_loss:',loss_loss)\n",
    "        cl = classification_report(lab, pre,output_dict=True)\n",
    "        ac_list.append(cl['accuracy'])\n",
    "\n",
    "        if cl['accuracy'] > acc_max:\n",
    "            acc_max = cl['accuracy']\n",
    "            torch.save(CPC_model, 'CPC_model.pth')\n",
    "            print('saved at epoch',epoch+1, 'acc:',cl['accuracy'], 'loss:',loss_loss)"
   ]
  },
  {
   "attachments": {},
   "cell_type": "markdown",
   "metadata": {},
   "source": [
    "# genenrate same output using test loader"
   ]
  },
  {
   "cell_type": "code",
   "execution_count": 9,
   "metadata": {},
   "outputs": [
    {
     "name": "stdout",
     "output_type": "stream",
     "text": [
      "              precision    recall  f1-score   support\n",
      "\n",
      "           0       0.83      0.70      0.76       867\n",
      "           1       0.92      0.96      0.94      3810\n",
      "           2       0.95      0.89      0.92       360\n",
      "\n",
      "    accuracy                           0.91      5037\n",
      "   macro avg       0.90      0.85      0.87      5037\n",
      "weighted avg       0.91      0.91      0.91      5037\n",
      "\n",
      "[[ 606  261    0]\n",
      " [ 125 3668   17]\n",
      " [   0   41  319]]\n",
      "Sensitivity :  0.698961937716263\n",
      "Specificity :  0.9670445557606117\n"
     ]
    },
    {
     "data": {
      "image/png": "[encoded data removed]",
      "text/plain": [
       "<Figure size 640x480 with 2 Axes>"
      ]
     },
     "metadata": {},
     "output_type": "display_data"
    }
   ],
   "source": [
    "DEVICE = torch.device(\"cpu\")\n",
    "CPC_model = CPC(\n",
    "    input_layer=128, # LSTM input\n",
    "    hidden_layer=64, # LSTM dim\n",
    "    n_layer=3, # LSTM layers\n",
    "    num_class=3,\n",
    "    time_step= 128, # k, how long future you will predict\n",
    ")\n",
    "# load model\n",
    "CPC_model = torch.load('CPC_model.pth')\n",
    "CPC_model.to(DEVICE)\n",
    "\n",
    "\n",
    "from sklearn.metrics import classification_report\n",
    "\n",
    "# set model to eval mode\n",
    "CPC_model.eval()\n",
    "\n",
    "all_labels = []\n",
    "all_predictions = []\n",
    "\n",
    "# iterate over the test dataloader\n",
    "for  _, (inputs, labels) in enumerate(test_dataloader, 0):\n",
    "    inputs = inputs.to(DEVICE)\n",
    "    labels = labels.type(torch.LongTensor)   # casting to long\n",
    "    labels = labels.to(DEVICE)\n",
    "\n",
    "    # forward pass and get predictions\n",
    "    _,_,outputs = CPC_model(inputs)\n",
    "\n",
    "    # get the predicted class with the highest score\n",
    "    _, predicted = torch.max(outputs, 1)\n",
    "\n",
    "    # append labels and predictions to lists\n",
    "    all_labels.extend(labels.cpu().numpy())\n",
    "    all_predictions.extend(predicted.cpu().numpy())\n",
    "\n",
    "# print classification report\n",
    "print(classification_report(all_labels, all_predictions))\n",
    "\n",
    "# cal sensitivity and specificity\n",
    "from sklearn.metrics import confusion_matrix\n",
    "import seaborn as sns\n",
    "\n",
    "cm = confusion_matrix(all_labels, all_predictions)\n",
    "print(cm)\n",
    "sns.heatmap(cm, annot=True, fmt='d', cmap='Blues')\n",
    "\n",
    "# sensitivity\n",
    "sensitivity = cm[0,0]/(cm[0,0]+cm[0,1])\n",
    "print('Sensitivity : ', sensitivity )\n",
    "\n",
    "# specificity\n",
    "specificity = cm[1,1]/(cm[1,0]+cm[1,1])\n",
    "print('Specificity : ', specificity)\n",
    "\n"
   ]
  },
  {
   "attachments": {},
   "cell_type": "markdown",
   "metadata": {},
   "source": [
    "# check NCE for each class"
   ]
  },
  {
   "cell_type": "code",
   "execution_count": 12,
   "metadata": {},
   "outputs": [
    {
     "data": {
      "text/plain": [
       "{1: 0.00953561044133467, 0: 0.00939529215170797, 2: 0.009789628626515704}"
      ]
     },
     "execution_count": 12,
     "metadata": {},
     "output_type": "execute_result"
    }
   ],
   "source": [
    "DEVICE = torch.device(\"cpu\")\n",
    "CPC_model = CPC(\n",
    "    input_layer=128, # LSTM input\n",
    "    hidden_layer=64, # LSTM dim\n",
    "    n_layer=3, # LSTM layers\n",
    "    num_class=3,\n",
    "    time_step= 128, # k, how long future you will predict\n",
    ")\n",
    "# load model\n",
    "CPC_model = torch.load('CPC_model.pth')\n",
    "CPC_model.to(DEVICE)\n",
    "\n",
    "CPC_model.compute_nce_per_class(train_dataloader)\n"
   ]
  },
  {
   "attachments": {},
   "cell_type": "markdown",
   "metadata": {},
   "source": [
    "# Use the model to do something"
   ]
  },
  {
   "cell_type": "code",
   "execution_count": 4,
   "metadata": {},
   "outputs": [
    {
     "name": "stdout",
     "output_type": "stream",
     "text": [
      "(1000, 256, 23)\n"
     ]
    }
   ],
   "source": [
    "import pyedflib\n",
    "import numpy as np\n",
    "from scipy import signal\n",
    "import copy\n",
    "file_name = \"C:/Users/comparch/Desktop/CondaHome/Python_3_8/cpc data cut/chbmit/chb01/chb01_03.edf\"\n",
    "# file_name = \"eeg44.edf\"\n",
    "f = pyedflib.EdfReader(file_name)\n",
    "n = f.signals_in_file\n",
    "signal_labels = f.getSignalLabels()\n",
    "sigbufs = np.zeros((n, f.getNSamples()[0]), dtype=np.float32)\n",
    "for i in np.arange(n):\n",
    "    sigbufs[i, :] = f.readSignal(i)\n",
    "\n",
    "data = sigbufs[:, 1500:1500+256*1000] # 1000s\n",
    "data = rearrange(data, 'c (h t) -> t h c', c=23,h=256,t=1000)\n",
    "print(data.shape)"
   ]
  },
  {
   "cell_type": "code",
   "execution_count": 5,
   "metadata": {},
   "outputs": [
    {
     "name": "stdout",
     "output_type": "stream",
     "text": [
      "tensor([1, 1, 1, 1, 1, 1, 0, 0, 1, 0, 0, 0, 0, 0, 1, 1, 1, 1, 1, 1, 1, 1, 1, 1,\n",
      "        1, 1, 1, 1, 1, 1, 1, 1, 1, 1, 1, 1, 0, 1, 1, 1, 1, 1, 1, 1, 1, 1, 1, 1,\n",
      "        1, 1, 1, 1, 1, 1, 1, 1, 1, 1, 1, 1, 1, 1, 1, 1, 1, 1, 1, 1, 1, 1, 1, 1,\n",
      "        1, 1, 1, 1, 1, 1, 1, 1, 1, 1, 1, 1, 1, 1, 1, 1, 1, 1, 1, 1, 1, 1, 1, 1,\n",
      "        1, 1, 1, 1, 1, 1, 1, 1, 1, 1, 1, 1, 1, 1, 1, 1, 1, 1, 1, 1, 1, 0, 1, 1,\n",
      "        1, 1, 0, 0, 0, 1, 1, 1, 1, 1, 1, 0, 0, 1, 1, 1, 1, 1, 1, 1, 1, 1, 1, 1,\n",
      "        1, 1, 1, 1, 1, 1, 1, 1, 1, 1, 1, 1, 0, 1, 0, 0, 1, 1, 1, 1, 1, 1, 1, 1,\n",
      "        1, 0, 1, 1, 0, 0, 1, 1, 1, 1, 1, 0, 1, 1, 1, 1, 1, 1, 1, 1, 1, 1, 1, 1,\n",
      "        1, 1, 1, 1, 1, 1, 1, 1, 1, 1, 1, 1, 1, 1, 1, 1, 1, 1, 1, 1, 1, 1, 1, 0,\n",
      "        0, 0, 1, 0, 0, 0, 0, 0, 0, 1, 0, 1, 1, 1, 1, 1, 1, 1, 1, 1, 1, 1, 0, 1,\n",
      "        1, 1, 0, 1, 0, 0, 0, 0, 0, 0, 0, 1, 1, 1, 1, 1, 1, 1, 1, 1, 1, 1, 1, 1,\n",
      "        1, 1, 1, 1, 1, 1, 1, 1, 1, 1, 0, 0, 0, 0, 1, 1, 0, 0, 1, 0, 0, 1, 1, 1,\n",
      "        1, 1, 1, 1, 1, 1, 1, 1, 1, 1, 1, 1, 1, 1, 1, 1, 1, 1, 1, 1, 1, 1, 1, 1,\n",
      "        1, 1, 1, 1, 1, 1, 1, 1, 1, 0, 0, 0, 0, 0, 0, 0, 1, 1, 1, 1, 1, 1, 1, 1,\n",
      "        1, 1, 1, 1, 1, 1, 1, 1, 1, 1, 1, 1, 1, 1, 1, 1, 1, 1, 1, 1, 1, 1, 1, 1,\n",
      "        1, 1, 1, 1, 1, 1, 1, 1, 1, 1, 1, 1, 1, 1, 1, 1, 0, 0, 1, 1, 1, 1, 1, 1,\n",
      "        0, 1, 1, 1, 1, 0, 0, 1, 1, 0, 0, 0, 0, 0, 1, 1, 1, 1, 1, 1, 1, 1, 1, 1,\n",
      "        1, 1, 1, 1, 1, 1, 1, 1, 1, 1, 1, 1, 1, 1, 1, 1, 1, 1, 1, 1, 1, 1, 1, 1,\n",
      "        1, 1, 1, 1, 1, 1, 1, 1, 1, 1, 1, 1, 1, 1, 0, 1, 1, 1, 1, 1, 1, 1, 1, 1,\n",
      "        1, 1, 1, 1, 1, 1, 1, 1, 1, 0, 1, 1, 1, 1, 1, 1, 1, 1, 1, 1, 1, 1, 1, 1,\n",
      "        1, 1, 1, 1, 1, 1, 1, 0, 1, 1, 1, 1, 1, 1, 1, 1, 1, 1, 0, 1, 1, 0, 1, 0,\n",
      "        1, 1, 1, 1, 1, 1, 1, 1, 1, 1, 1, 0, 0, 0, 0, 1, 1, 1, 0, 0, 0, 0, 0, 1,\n",
      "        1, 1, 1, 1, 1, 1, 1, 1, 0, 1, 1, 1, 1, 1, 1, 1, 1, 1, 1, 1, 1, 1, 1, 1,\n",
      "        1, 1, 1, 1, 1, 1, 1, 1, 1, 1, 1, 1, 1, 1, 1, 1, 1, 1, 1, 1, 1, 1, 1, 1,\n",
      "        1, 1, 1, 0, 1, 1, 1, 1, 1, 1, 0, 0, 1, 1, 1, 1, 1, 1, 1, 1, 1, 1, 1, 1,\n",
      "        1, 1, 1, 1, 1, 1, 0, 1, 1, 1, 1, 1, 1, 1, 1, 1, 1, 1, 0, 1, 1, 1, 1, 1,\n",
      "        1, 1, 1, 1, 1, 1, 1, 1, 1, 1, 1, 1, 1, 1, 1, 1, 1, 1, 1, 1, 0, 1, 0, 1,\n",
      "        1, 1, 1, 1, 1, 1, 1, 1, 1, 1, 1, 0, 0, 1, 1, 1, 1, 1, 1, 0, 0, 0, 0, 1,\n",
      "        1, 1, 1, 1, 1, 1, 1, 1, 1, 1, 0, 0, 1, 1, 0, 0, 1, 1, 1, 1, 1, 1, 1, 1,\n",
      "        1, 1, 0, 1, 1, 1, 0, 0, 0, 1, 0, 0, 0, 1, 1, 1, 1, 1, 1, 1, 1, 1, 1, 1,\n",
      "        1, 0, 1, 0, 1, 1, 1, 1, 1, 1, 0, 0, 1, 1, 1, 1, 1, 1, 1, 1, 1, 1, 1, 1,\n",
      "        1, 1, 1, 1, 0, 0, 1, 1, 1, 0, 0, 0, 0, 0, 1, 1, 1, 0, 1, 1, 1, 1, 1, 1,\n",
      "        1, 1, 1, 1, 1, 1, 1, 1, 1, 1, 1, 1, 1, 1, 1, 1, 1, 1, 1, 1, 1, 1, 1, 1,\n",
      "        1, 1, 1, 1, 1, 1, 1, 1, 1, 1, 1, 1, 0, 1, 1, 1, 1, 1, 1, 1, 1, 1, 1, 1,\n",
      "        1, 0, 0, 1, 1, 1, 1, 1, 1, 1, 1, 1, 0, 0, 1, 1, 1, 1, 1, 0, 1, 1, 1, 1,\n",
      "        1, 1, 1, 1, 1, 1, 1, 1, 1, 1, 1, 1, 1, 1, 1, 1, 1, 1, 1, 1, 1, 1, 1, 1,\n",
      "        1, 1, 1, 1, 1, 1, 1, 1, 1, 1, 1, 1, 1, 1, 1, 1, 1, 1, 1, 1, 1, 1, 1, 1,\n",
      "        1, 1, 1, 1, 1, 1, 1, 1, 1, 1, 1, 1, 1, 1, 1, 1, 1, 1, 1, 1, 1, 1, 1, 1,\n",
      "        1, 1, 1, 1, 1, 1, 1, 1, 1, 1, 1, 1, 1, 1, 1, 1, 1, 1, 1, 1, 1, 1, 1, 1,\n",
      "        1, 1, 0, 0, 1, 1, 1, 1, 1, 0, 1, 1, 1, 1, 1, 1, 1, 1, 1, 1, 1, 1, 1, 1,\n",
      "        1, 1, 1, 1, 1, 0, 1, 1, 1, 1, 1, 1, 1, 1, 1, 1, 1, 1, 1, 1, 0, 1, 1, 1,\n",
      "        1, 1, 1, 1, 1, 1, 0, 1, 1, 0, 1, 1, 1, 1, 1, 1])\n",
      "0.814\n",
      "tensor(0.7817, grad_fn=<DivBackward0>)\n"
     ]
    },
    {
     "name": "stderr",
     "output_type": "stream",
     "text": [
      "C:\\Users\\comparch\\AppData\\Local\\Temp\\ipykernel_20936\\2368257409.py:22: UserWarning: Implicit dimension choice for softmax has been deprecated. Change the call to include dim=X as an argument.\n",
      "  _, predicted = torch.max(F.softmax(outputs).data, 1)\n"
     ]
    },
    {
     "data": {
      "image/png": "[encoded data removed]",
      "text/plain": [
       "<Figure size 640x480 with 1 Axes>"
      ]
     },
     "metadata": {},
     "output_type": "display_data"
    }
   ],
   "source": [
    "DEVICE = torch.device(\"cpu\")\n",
    "# data to tensor float\n",
    "testdata = torch.from_numpy(data[:,:,0:22]).float()\n",
    "\n",
    "# go model\n",
    "CPC_model = CPC(\n",
    "    input_layer=128, # LSTM input\n",
    "    hidden_layer=64, # LSTM dim\n",
    "    n_layer=3, # LSTM layers\n",
    "    num_class=3,\n",
    "    time_step= 128, # k, how long future you will predict\n",
    ")\n",
    "# load model\n",
    "CPC_model = torch.load('CPC_model.pth')\n",
    "CPC_model.to(DEVICE)\n",
    "\n",
    "# data to device\n",
    "testdata = testdata.to(DEVICE)\n",
    "\n",
    "# go model\n",
    "acc, nce_loss, outputs = CPC_model(testdata)\n",
    "_, predicted = torch.max(F.softmax(outputs).data, 1)\n",
    "print(predicted)\n",
    "\n",
    "# visulize predicted as mask in data\n",
    "import os\n",
    "os.environ['KMP_DUPLICATE_LIB_OK'] = 'True'\n"
   ]
  },
  {
   "cell_type": "code",
   "execution_count": 31,
   "metadata": {},
   "outputs": [
    {
     "data": {
      "text/plain": [
       "[<matplotlib.lines.Line2D at 0x24cb81d69a0>]"
      ]
     },
     "execution_count": 31,
     "metadata": {},
     "output_type": "execute_result"
    },
    {
     "data": {
      "image/png": "[encoded data removed]",
      "text/plain": [
       "<Figure size 640x480 with 1 Axes>"
      ]
     },
     "metadata": {},
     "output_type": "display_data"
    }
   ],
   "source": [
    "plt.plot(loss_list[1:])"
   ]
  },
  {
   "cell_type": "code",
   "execution_count": 32,
   "metadata": {},
   "outputs": [
    {
     "data": {
      "text/plain": [
       "[<matplotlib.lines.Line2D at 0x24c80e2eb50>]"
      ]
     },
     "execution_count": 32,
     "metadata": {},
     "output_type": "execute_result"
    },
    {
     "data": {
      "image/png": "[encoded data removed]",
      "text/plain": [
       "<Figure size 640x480 with 1 Axes>"
      ]
     },
     "metadata": {},
     "output_type": "display_data"
    }
   ],
   "source": [
    "plt.plot(ac_list[1:])"
   ]
  },
  {
   "cell_type": "code",
   "execution_count": null,
   "metadata": {},
   "outputs": [],
   "source": []
  },
  {
   "attachments": {},
   "cell_type": "markdown",
   "metadata": {},
   "source": [
    "# SELF learning"
   ]
  },
  {
   "cell_type": "code",
   "execution_count": 9,
   "metadata": {
    "scrolled": true
   },
   "outputs": [
    {
     "name": "stderr",
     "output_type": "stream",
     "text": [
      "  3%|██▊                                                                                | 1/30 [00:14<07:08, 14.79s/it]"
     ]
    },
    {
     "name": "stdout",
     "output_type": "stream",
     "text": [
      "epoch 1 :finished\n",
      "train_loss: 0.25173624598189887\n"
     ]
    },
    {
     "name": "stderr",
     "output_type": "stream",
     "text": [
      "\r\n",
      "  7%|█████▌                                                                             | 2/30 [00:30<07:01, 15.06s/it]"
     ]
    },
    {
     "name": "stdout",
     "output_type": "stream",
     "text": [
      "epoch 2 :finished\n",
      "train_loss: 0.023297725786137747\n"
     ]
    },
    {
     "name": "stderr",
     "output_type": "stream",
     "text": [
      "\r\n",
      " 10%|████████▎                                                                          | 3/30 [00:44<06:43, 14.95s/it]"
     ]
    },
    {
     "name": "stdout",
     "output_type": "stream",
     "text": [
      "epoch 3 :finished\n",
      "train_loss: 0.022401091194087803\n"
     ]
    },
    {
     "name": "stderr",
     "output_type": "stream",
     "text": [
      "\r\n",
      " 13%|███████████                                                                        | 4/30 [00:59<06:26, 14.86s/it]"
     ]
    },
    {
     "name": "stdout",
     "output_type": "stream",
     "text": [
      "epoch 4 :finished\n",
      "train_loss: 0.01312403851381194\n"
     ]
    },
    {
     "name": "stderr",
     "output_type": "stream",
     "text": [
      "\r\n",
      " 17%|█████████████▊                                                                     | 5/30 [01:14<06:09, 14.80s/it]"
     ]
    },
    {
     "name": "stdout",
     "output_type": "stream",
     "text": [
      "epoch 5 :finished\n",
      "train_loss: 0.018252876344828542\n"
     ]
    },
    {
     "name": "stderr",
     "output_type": "stream",
     "text": [
      "\r\n",
      " 20%|████████████████▌                                                                  | 6/30 [01:28<05:54, 14.76s/it]"
     ]
    },
    {
     "name": "stdout",
     "output_type": "stream",
     "text": [
      "epoch 6 :finished\n",
      "train_loss: 0.011925020268230254\n"
     ]
    },
    {
     "name": "stderr",
     "output_type": "stream",
     "text": [
      "\r\n",
      " 23%|███████████████████▎                                                               | 7/30 [01:43<05:38, 14.73s/it]"
     ]
    },
    {
     "name": "stdout",
     "output_type": "stream",
     "text": [
      "epoch 7 :finished\n",
      "train_loss: 0.016633578873363756\n"
     ]
    },
    {
     "name": "stderr",
     "output_type": "stream",
     "text": [
      "\r\n",
      " 27%|██████████████████████▏                                                            | 8/30 [01:58<05:23, 14.72s/it]"
     ]
    },
    {
     "name": "stdout",
     "output_type": "stream",
     "text": [
      "epoch 8 :finished\n",
      "train_loss: 0.006813960576458725\n"
     ]
    },
    {
     "name": "stderr",
     "output_type": "stream",
     "text": [
      "\r\n",
      " 30%|████████████████████████▉                                                          | 9/30 [02:13<05:10, 14.81s/it]"
     ]
    },
    {
     "name": "stdout",
     "output_type": "stream",
     "text": [
      "epoch 9 :finished\n",
      "train_loss: 0.014542673512723333\n"
     ]
    },
    {
     "name": "stderr",
     "output_type": "stream",
     "text": [
      "\r\n",
      " 33%|███████████████████████████▎                                                      | 10/30 [02:28<04:58, 14.91s/it]"
     ]
    },
    {
     "name": "stdout",
     "output_type": "stream",
     "text": [
      "epoch 10 :finished\n",
      "train_loss: 0.011415772750523448\n"
     ]
    },
    {
     "name": "stderr",
     "output_type": "stream",
     "text": [
      "\r\n",
      " 37%|██████████████████████████████                                                    | 11/30 [02:43<04:43, 14.91s/it]"
     ]
    },
    {
     "name": "stdout",
     "output_type": "stream",
     "text": [
      "epoch 11 :finished\n",
      "train_loss: 0.01356516581672776\n"
     ]
    },
    {
     "name": "stderr",
     "output_type": "stream",
     "text": [
      "\r\n",
      " 40%|████████████████████████████████▊                                                 | 12/30 [02:58<04:26, 14.83s/it]"
     ]
    },
    {
     "name": "stdout",
     "output_type": "stream",
     "text": [
      "epoch 12 :finished\n",
      "train_loss: 0.006385196795788209\n"
     ]
    },
    {
     "name": "stderr",
     "output_type": "stream",
     "text": [
      "\r\n",
      " 43%|███████████████████████████████████▌                                              | 13/30 [03:12<04:11, 14.78s/it]"
     ]
    },
    {
     "name": "stdout",
     "output_type": "stream",
     "text": [
      "epoch 13 :finished\n",
      "train_loss: 0.01211481846666178\n"
     ]
    },
    {
     "name": "stderr",
     "output_type": "stream",
     "text": [
      "\r\n",
      " 47%|██████████████████████████████████████▎                                           | 14/30 [03:27<03:55, 14.71s/it]"
     ]
    },
    {
     "name": "stdout",
     "output_type": "stream",
     "text": [
      "epoch 14 :finished\n",
      "train_loss: 0.007716535225369759\n"
     ]
    },
    {
     "name": "stderr",
     "output_type": "stream",
     "text": [
      "\r\n",
      " 50%|█████████████████████████████████████████                                         | 15/30 [03:41<03:40, 14.73s/it]"
     ]
    },
    {
     "name": "stdout",
     "output_type": "stream",
     "text": [
      "epoch 15 :finished\n",
      "train_loss: 0.012760939308947613\n"
     ]
    },
    {
     "name": "stderr",
     "output_type": "stream",
     "text": [
      "\r\n",
      " 53%|███████████████████████████████████████████▋                                      | 16/30 [03:56<03:25, 14.70s/it]"
     ]
    },
    {
     "name": "stdout",
     "output_type": "stream",
     "text": [
      "epoch 16 :finished\n",
      "train_loss: 0.00911362772027541\n"
     ]
    },
    {
     "name": "stderr",
     "output_type": "stream",
     "text": [
      "\r\n",
      " 57%|██████████████████████████████████████████████▍                                   | 17/30 [04:11<03:11, 14.71s/it]"
     ]
    },
    {
     "name": "stdout",
     "output_type": "stream",
     "text": [
      "epoch 17 :finished\n",
      "train_loss: 0.0050406904071712815\n"
     ]
    },
    {
     "name": "stderr",
     "output_type": "stream",
     "text": [
      "\r\n",
      " 60%|█████████████████████████████████████████████████▏                                | 18/30 [04:26<02:56, 14.71s/it]"
     ]
    },
    {
     "name": "stdout",
     "output_type": "stream",
     "text": [
      "epoch 18 :finished\n",
      "train_loss: 0.015581142103753512\n"
     ]
    },
    {
     "name": "stderr",
     "output_type": "stream",
     "text": [
      "\r\n",
      " 63%|███████████████████████████████████████████████████▉                              | 19/30 [04:40<02:42, 14.74s/it]"
     ]
    },
    {
     "name": "stdout",
     "output_type": "stream",
     "text": [
      "epoch 19 :finished\n",
      "train_loss: 0.005146353513272578\n"
     ]
    },
    {
     "name": "stderr",
     "output_type": "stream",
     "text": [
      "\r\n",
      " 67%|██████████████████████████████████████████████████████▋                           | 20/30 [04:55<02:28, 14.80s/it]"
     ]
    },
    {
     "name": "stdout",
     "output_type": "stream",
     "text": [
      "epoch 20 :finished\n",
      "train_loss: 0.010687138711634054\n"
     ]
    },
    {
     "name": "stderr",
     "output_type": "stream",
     "text": [
      "\r\n",
      " 70%|█████████████████████████████████████████████████████████▍                        | 21/30 [05:10<02:13, 14.85s/it]"
     ]
    },
    {
     "name": "stdout",
     "output_type": "stream",
     "text": [
      "epoch 21 :finished\n",
      "train_loss: 0.0056566605814860945\n"
     ]
    },
    {
     "name": "stderr",
     "output_type": "stream",
     "text": [
      "\r\n",
      " 73%|████████████████████████████████████████████████████████████▏                     | 22/30 [05:25<01:58, 14.79s/it]"
     ]
    },
    {
     "name": "stdout",
     "output_type": "stream",
     "text": [
      "epoch 22 :finished\n",
      "train_loss: 0.018802270517182494\n"
     ]
    },
    {
     "name": "stderr",
     "output_type": "stream",
     "text": [
      "\r\n",
      " 77%|██████████████████████████████████████████████████████████████▊                   | 23/30 [05:40<01:43, 14.79s/it]"
     ]
    },
    {
     "name": "stdout",
     "output_type": "stream",
     "text": [
      "epoch 23 :finished\n",
      "train_loss: 0.006425592568062513\n"
     ]
    },
    {
     "name": "stderr",
     "output_type": "stream",
     "text": [
      "\r\n",
      " 80%|█████████████████████████████████████████████████████████████████▌                | 24/30 [05:55<01:28, 14.83s/it]"
     ]
    },
    {
     "name": "stdout",
     "output_type": "stream",
     "text": [
      "epoch 24 :finished\n",
      "train_loss: 0.007509799279442464\n"
     ]
    },
    {
     "name": "stderr",
     "output_type": "stream",
     "text": [
      "\r\n",
      " 83%|████████████████████████████████████████████████████████████████████▎             | 25/30 [06:09<01:13, 14.80s/it]"
     ]
    },
    {
     "name": "stdout",
     "output_type": "stream",
     "text": [
      "epoch 25 :finished\n",
      "train_loss: 0.005541392025919053\n"
     ]
    },
    {
     "name": "stderr",
     "output_type": "stream",
     "text": [
      "\r\n",
      " 87%|███████████████████████████████████████████████████████████████████████           | 26/30 [06:24<00:59, 14.78s/it]"
     ]
    },
    {
     "name": "stdout",
     "output_type": "stream",
     "text": [
      "epoch 26 :finished\n",
      "train_loss: 0.008046115074023098\n"
     ]
    },
    {
     "name": "stderr",
     "output_type": "stream",
     "text": [
      "\r\n",
      " 90%|█████████████████████████████████████████████████████████████████████████▊        | 27/30 [06:39<00:44, 14.74s/it]"
     ]
    },
    {
     "name": "stdout",
     "output_type": "stream",
     "text": [
      "epoch 27 :finished\n",
      "train_loss: 0.008656056196761264\n"
     ]
    },
    {
     "name": "stderr",
     "output_type": "stream",
     "text": [
      "\r\n",
      " 93%|████████████████████████████████████████████████████████████████████████████▌     | 28/30 [06:54<00:29, 14.98s/it]"
     ]
    },
    {
     "name": "stdout",
     "output_type": "stream",
     "text": [
      "epoch 28 :finished\n",
      "train_loss: 0.006775630019888624\n"
     ]
    },
    {
     "name": "stderr",
     "output_type": "stream",
     "text": [
      "\r\n",
      " 97%|███████████████████████████████████████████████████████████████████████████████▎  | 29/30 [07:09<00:14, 14.92s/it]"
     ]
    },
    {
     "name": "stdout",
     "output_type": "stream",
     "text": [
      "epoch 29 :finished\n",
      "train_loss: 0.007453002762077393\n"
     ]
    },
    {
     "name": "stderr",
     "output_type": "stream",
     "text": [
      "100%|██████████████████████████████████████████████████████████████████████████████████| 30/30 [07:24<00:00, 14.81s/it]"
     ]
    },
    {
     "name": "stdout",
     "output_type": "stream",
     "text": [
      "epoch 30 :finished\n",
      "train_loss: 0.008999761140475394\n"
     ]
    },
    {
     "name": "stderr",
     "output_type": "stream",
     "text": [
      "\n"
     ]
    }
   ],
   "source": [
    "EPOCH = 30\n",
    "train_times = 0\n",
    "\n",
    "loss_list=[]\n",
    "val_loss_list=[]\n",
    "ac_list=[]\n",
    "\n",
    "for epoch in tqdm.tqdm(range(EPOCH)):\n",
    "    running_loss = 0.0\n",
    "    count = 0\n",
    "    for  _, (inputs, labels) in enumerate(train_dataloader, 0):\n",
    "        optimizer.zero_grad()\n",
    "        inputs = inputs.to(DEVICE)\n",
    "\n",
    "        labels = labels.to(DEVICE)\n",
    "\n",
    "        acc,nce_loss,_ = CPC_model(inputs)\n",
    "\n",
    "        losses = nce_loss\n",
    "        losses.backward()\n",
    "        optimizer.step() \n",
    "        running_loss += losses.item()\n",
    "        count = count+1\n",
    "    loss_loss = running_loss/count\n",
    "    loss_list.append(loss_loss)\n",
    "    print('epoch',epoch+1,':finished')\n",
    "    print('train_loss:',loss_loss)"
   ]
  },
  {
   "cell_type": "code",
   "execution_count": 10,
   "metadata": {
    "scrolled": true
   },
   "outputs": [
    {
     "name": "stdout",
     "output_type": "stream",
     "text": [
      "1.0\n"
     ]
    },
    {
     "data": {
      "image/png": "[encoded data removed]",
      "text/plain": [
       "<Figure size 640x480 with 1 Axes>"
      ]
     },
     "metadata": {},
     "output_type": "display_data"
    }
   ],
   "source": [
    "plt.plot(loss_list[1:])\n",
    "print(acc)"
   ]
  },
  {
   "cell_type": "code",
   "execution_count": 7,
   "metadata": {
    "scrolled": true
   },
   "outputs": [
    {
     "name": "stdout",
     "output_type": "stream",
     "text": [
      "1.0\n"
     ]
    },
    {
     "data": {
      "image/png": "[encoded data removed]",
      "text/plain": [
       "<Figure size 640x480 with 1 Axes>"
      ]
     },
     "metadata": {},
     "output_type": "display_data"
    }
   ],
   "source": [
    "plt.plot(loss_list[1:])\n",
    "print(acc)"
   ]
  },
  {
   "cell_type": "code",
   "execution_count": null,
   "metadata": {},
   "outputs": [],
   "source": []
  },
  {
   "cell_type": "code",
   "execution_count": null,
   "metadata": {},
   "outputs": [],
   "source": []
  }
 ],
 "metadata": {
  "kernelspec": {
   "display_name": "Python 3 (ipykernel)",
   "language": "python",
   "name": "python3"
  },
  "language_info": {
   "codemirror_mode": {
    "name": "ipython",
    "version": 3
   },
   "file_extension": ".py",
   "mimetype": "text/x-python",
   "name": "python",
   "nbconvert_exporter": "python",
   "pygments_lexer": "ipython3",
   "version": "3.9.16"
  }
 },
 "nbformat": 4,
 "nbformat_minor": 4
}
